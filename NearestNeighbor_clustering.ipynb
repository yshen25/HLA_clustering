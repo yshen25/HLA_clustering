{
 "cells": [
  {
   "cell_type": "markdown",
   "metadata": {},
   "source": [
    "# HLA class I supertype classification via nearest neighbor method\n",
    "Classify HLA class I alleles into supertypes based on binding groove structure similarity\n",
    "Clustering using nearest neighbor method for improved speed\n",
    "\n",
    "Author: Shawn Shen\\\n",
    "Created on: July 2022"
   ]
  },
  {
   "cell_type": "code",
   "execution_count": 1,
   "metadata": {},
   "outputs": [],
   "source": [
    "from src.SupertypeTools import CGAnchorMat, NearestNeighbor_cluster"
   ]
  },
  {
   "cell_type": "markdown",
   "metadata": {},
   "source": [
    "## 1. Specify anchor alleles and represented supertypes / sub-supertypes"
   ]
  },
  {
   "cell_type": "code",
   "execution_count": 2,
   "metadata": {},
   "outputs": [],
   "source": [
    "supertype_anchors = {\n",
    "    \"A01_01\":\"A01-A03-A66\",\n",
    "    \"A02_01\":\"A02\",\n",
    "    \"A02_03\":\"A02\",\n",
    "    \"A02_06\":\"A02\",\n",
    "    \"A02_07\":\"A02\",\n",
    "    \"A03_01\":\"A01-A03-A66\",\n",
    "    \"A11_01\":\"A01-A03-A66\",\n",
    "    \"A24_02\":\"A24\",\n",
    "    \"A30_01\":\"A01-A03-A66\",\n",
    "    \"A68_01\":\"A02\",\n",
    "    \"B07_02\":\"B07-B35\",\n",
    "    \"B08_01\":\"B08-B18-B39\",\n",
    "    \"B14_02\":\"B14\",\n",
    "    \"B15_01\":\"B15-B40\",\n",
    "    \"B18_01\":\"B08-B18-B39\",\n",
    "    \"B27_05\":\"B27\",\n",
    "    \"B35_01\":\"B07-B35\",\n",
    "    \"B39_01\":\"B08-B18-B39\",\n",
    "    \"B40_01\":\"B15-B40\",\n",
    "    \"B40_02\":\"B15-B40\",\n",
    "    \"B42_01\":\"B07-B35\",\n",
    "    \"B44_02\":\"B44\",\n",
    "    \"B44_03\":\"B44\",\n",
    "    \"B46_01\":\"C01-C02\",\n",
    "    \"B51_01\":\"B51-B58\",\n",
    "    \"B57_01\":\"B51-B58\",\n",
    "    \"B58_01\":\"B51-B58\",\n",
    "    \"C04_01\":\"C01-C02\",\n",
    "    \"C05_01\":\"C01-C02\",\n",
    "    \"C06_02\":\"C01-C02\",\n",
    "    \"C08_02\":\"C01-C02\",\n",
    "    \"A26_01\":\"A01-A03-A66\",\n",
    "    \"C07_01\":\"C07\"\n",
    "}\n",
    "\n",
    "subtype_anchors = {\n",
    "    \"A01_01\":\"A01\",\n",
    "    \"A02_01\":\"A02\",\n",
    "    \"A02_03\":\"A02\",\n",
    "    \"A02_06\":\"A02\",\n",
    "    \"A02_07\":\"A02\",\n",
    "    \"A03_01\":\"A03\",\n",
    "    \"A11_01\":\"A03\",\n",
    "    \"A24_02\":\"A24\",\n",
    "    \"A30_01\":\"A03\",\n",
    "    \"A68_01\":\"A02\",\n",
    "    \"B07_02\":\"B07\",\n",
    "    \"B08_01\":\"B08\",\n",
    "    \"B14_02\":\"B14\",\n",
    "    \"B15_01\":\"B15\",\n",
    "    \"B18_01\":\"B18\",\n",
    "    \"B27_05\":\"B27\",\n",
    "    \"B35_01\":\"B35\",\n",
    "    \"B39_01\":\"B39\",\n",
    "    \"B40_01\":\"B40\",\n",
    "    \"B40_02\":\"B15\",\n",
    "    \"B42_01\":\"B07\",\n",
    "    \"B44_02\":\"B44\",\n",
    "    \"B44_03\":\"B44\",\n",
    "    \"B46_01\":\"C02\",\n",
    "    \"B51_01\":\"B51\",\n",
    "    \"B57_01\":\"B58\",\n",
    "    \"B58_01\":\"B58\",\n",
    "    \"C04_01\":\"C01\",\n",
    "    \"C05_01\":\"C01\",\n",
    "    \"C06_02\":\"C02\",\n",
    "    \"C08_02\":\"C01\",\n",
    "    \"A26_01\":\"A66\",\n",
    "    \"C07_01\":\"C07\"\n",
    "}"
   ]
  },
  {
   "cell_type": "markdown",
   "metadata": {},
   "source": [
    "## 2. Nearest neighbor clustering"
   ]
  },
  {
   "cell_type": "code",
   "execution_count": 3,
   "metadata": {},
   "outputs": [],
   "source": [
    "# Structure distances between target alleles and anchor alleles\n",
    "Mat = CGAnchorMat(\"HLA1_models/CG_DAT\", supertype_anchors, AlleleListFile=\"Dataset_split/unpopular.list\")"
   ]
  },
  {
   "cell_type": "code",
   "execution_count": 4,
   "metadata": {},
   "outputs": [
    {
     "data": {
      "text/html": [
       "<div>\n",
       "<style scoped>\n",
       "    .dataframe tbody tr th:only-of-type {\n",
       "        vertical-align: middle;\n",
       "    }\n",
       "\n",
       "    .dataframe tbody tr th {\n",
       "        vertical-align: top;\n",
       "    }\n",
       "\n",
       "    .dataframe thead th {\n",
       "        text-align: right;\n",
       "    }\n",
       "</style>\n",
       "<table border=\"1\" class=\"dataframe\">\n",
       "  <thead>\n",
       "    <tr style=\"text-align: right;\">\n",
       "      <th></th>\n",
       "      <th>Nearest_anchor</th>\n",
       "      <th>Cluster</th>\n",
       "    </tr>\n",
       "  </thead>\n",
       "  <tbody>\n",
       "    <tr>\n",
       "      <th>B08_02</th>\n",
       "      <td>B08_01</td>\n",
       "      <td>B08-B18-B39</td>\n",
       "    </tr>\n",
       "    <tr>\n",
       "      <th>B27_09</th>\n",
       "      <td>B27_05</td>\n",
       "      <td>B27</td>\n",
       "    </tr>\n",
       "  </tbody>\n",
       "</table>\n",
       "</div>"
      ],
      "text/plain": [
       "       Nearest_anchor      Cluster\n",
       "B08_02         B08_01  B08-B18-B39\n",
       "B27_09         B27_05          B27"
      ]
     },
     "execution_count": 4,
     "metadata": {},
     "output_type": "execute_result"
    }
   ],
   "source": [
    "# Supertype level clustering result\n",
    "NearestNeighbor_cluster(Mat, supertype_anchors)"
   ]
  },
  {
   "cell_type": "code",
   "execution_count": 5,
   "metadata": {},
   "outputs": [
    {
     "data": {
      "text/html": [
       "<div>\n",
       "<style scoped>\n",
       "    .dataframe tbody tr th:only-of-type {\n",
       "        vertical-align: middle;\n",
       "    }\n",
       "\n",
       "    .dataframe tbody tr th {\n",
       "        vertical-align: top;\n",
       "    }\n",
       "\n",
       "    .dataframe thead th {\n",
       "        text-align: right;\n",
       "    }\n",
       "</style>\n",
       "<table border=\"1\" class=\"dataframe\">\n",
       "  <thead>\n",
       "    <tr style=\"text-align: right;\">\n",
       "      <th></th>\n",
       "      <th>Nearest_anchor</th>\n",
       "      <th>Cluster</th>\n",
       "    </tr>\n",
       "  </thead>\n",
       "  <tbody>\n",
       "    <tr>\n",
       "      <th>B08_02</th>\n",
       "      <td>B08_01</td>\n",
       "      <td>B08</td>\n",
       "    </tr>\n",
       "    <tr>\n",
       "      <th>B27_09</th>\n",
       "      <td>B27_05</td>\n",
       "      <td>B27</td>\n",
       "    </tr>\n",
       "  </tbody>\n",
       "</table>\n",
       "</div>"
      ],
      "text/plain": [
       "       Nearest_anchor Cluster\n",
       "B08_02         B08_01     B08\n",
       "B27_09         B27_05     B27"
      ]
     },
     "execution_count": 5,
     "metadata": {},
     "output_type": "execute_result"
    }
   ],
   "source": [
    "# Sub-supertype level clustering result\n",
    "NearestNeighbor_cluster(Mat, subtype_anchors)"
   ]
  }
 ],
 "metadata": {
  "kernelspec": {
   "display_name": "Python 3.8.12 ('base')",
   "language": "python",
   "name": "python3"
  },
  "language_info": {
   "codemirror_mode": {
    "name": "ipython",
    "version": 3
   },
   "file_extension": ".py",
   "mimetype": "text/x-python",
   "name": "python",
   "nbconvert_exporter": "python",
   "pygments_lexer": "ipython3",
   "version": "3.8.12"
  },
  "orig_nbformat": 4,
  "vscode": {
   "interpreter": {
    "hash": "03bd0a3aa2fb457f4f9a4412ea0ce5f7edcd0e4858d63c9aa500d46f06c075ad"
   }
  }
 },
 "nbformat": 4,
 "nbformat_minor": 2
}
