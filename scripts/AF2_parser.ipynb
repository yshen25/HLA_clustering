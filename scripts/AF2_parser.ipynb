{
 "cells": [
  {
   "cell_type": "code",
   "execution_count": 2,
   "metadata": {},
   "outputs": [],
   "source": [
    "import numpy as np\n",
    "import os, shutil\n",
    "import json\n",
    "import pandas as pd"
   ]
  },
  {
   "cell_type": "code",
   "execution_count": 5,
   "metadata": {},
   "outputs": [],
   "source": [
    "record_output = []\n",
    "for dir in os.listdir(\"/Users/ys0/Downloads/done\"):\n",
    "    if os.path.isdir(f\"/Users/ys0/Downloads/done/{dir}\") and dir.endswith(\".result\"):\n",
    "        for file in os.listdir(f\"/Users/ys0/Downloads/done/{dir}\"):\n",
    "            if file.startswith(f\"{dir.split('.')[0]}_relaxed_rank_1\") and file.endswith(\".pdb\"):\n",
    "                shutil.copy2(f\"/Users/ys0/Downloads/done/{dir}/{file}\", \"/Users/ys0/workbench/HLA_clustering/HLA2_models/PDB\")\n",
    "\n",
    "            if file.startswith(f\"{dir.split('.')[0]}_unrelaxed_rank_1\") and file.endswith(\".json\"):\n",
    "                with open(f\"/Users/ys0/Downloads/done/{dir}/{file}\") as fh:\n",
    "                    scores = json.load(fh)\n",
    "                    plddt = np.mean(scores['plddt'])\n",
    "                    ptm = scores['ptm']\n",
    "                record_output.append([dir.split('.')[0], plddt, ptm])\n",
    "\n",
    "df = pd.DataFrame(record_output, columns=[\"Allele\", \"pLDDT\", \"pTM\"])\n",
    "df.to_csv(\"HLA2_AF2_scores.csv\", index=False)"
   ]
  }
 ],
 "metadata": {
  "interpreter": {
   "hash": "ab2f5bd6f2e5c747d994d6cc011ae3211b56e19b44e4812a8470034e064986f7"
  },
  "kernelspec": {
   "display_name": "Python 3.8.12 ('py38')",
   "language": "python",
   "name": "python3"
  },
  "language_info": {
   "codemirror_mode": {
    "name": "ipython",
    "version": 3
   },
   "file_extension": ".py",
   "mimetype": "text/x-python",
   "name": "python",
   "nbconvert_exporter": "python",
   "pygments_lexer": "ipython3",
   "version": "3.8.12"
  },
  "orig_nbformat": 4
 },
 "nbformat": 4,
 "nbformat_minor": 2
}
