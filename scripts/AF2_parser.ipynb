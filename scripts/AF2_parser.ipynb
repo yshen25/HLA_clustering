{
 "cells": [
  {
   "cell_type": "code",
   "execution_count": 1,
   "metadata": {},
   "outputs": [],
   "source": [
    "import numpy as np\n",
    "import os, shutil\n",
    "import json\n",
    "import pandas as pd"
   ]
  },
  {
   "cell_type": "code",
   "execution_count": 3,
   "metadata": {},
   "outputs": [],
   "source": [
    "record_output = []\n",
    "for dir in os.listdir(\"/home/shawn/work_bench/temp\"):\n",
    "    if os.path.isdir(f\"/home/shawn/work_bench/temp/{dir}\") and dir.endswith(\".result\"):\n",
    "        for file in os.listdir(f\"/home/shawn/work_bench/temp/{dir}\"):\n",
    "            if file.startswith(f\"{dir.split('.')[0]}_unrelaxed_rank_1\") and file.endswith(\".pdb\"):\n",
    "                shutil.copy2(f\"/home/shawn/work_bench/temp/{dir}/{file}\", \"/home/shawn/work_bench/temp/PDB\")\n",
    "\n",
    "            if file.startswith(f\"{dir.split('.')[0]}_unrelaxed_rank_1\") and file.endswith(\".json\"):\n",
    "                with open(f\"/home/shawn/work_bench/temp/{dir}/{file}\") as fh:\n",
    "                    scores = json.load(fh)\n",
    "                    plddt = np.mean(scores['plddt'])\n",
    "                    ptm = scores['ptm']\n",
    "                record_output.append([dir.split('.')[0], plddt, ptm])\n",
    "\n",
    "df = pd.DataFrame(record_output, columns=[\"Allele\", \"pLDDT\", \"pTM\"])\n",
    "df.to_csv(\"HLA1_AF2_scores.csv\", index=False)"
   ]
  }
 ],
 "metadata": {
  "interpreter": {
   "hash": "03bd0a3aa2fb457f4f9a4412ea0ce5f7edcd0e4858d63c9aa500d46f06c075ad"
  },
  "kernelspec": {
   "display_name": "Python 3.8.12 ('base')",
   "language": "python",
   "name": "python3"
  },
  "language_info": {
   "codemirror_mode": {
    "name": "ipython",
    "version": 3
   },
   "file_extension": ".py",
   "mimetype": "text/x-python",
   "name": "python",
   "nbconvert_exporter": "python",
   "pygments_lexer": "ipython3",
   "version": "3.8.12"
  },
  "orig_nbformat": 4
 },
 "nbformat": 4,
 "nbformat_minor": 2
}
