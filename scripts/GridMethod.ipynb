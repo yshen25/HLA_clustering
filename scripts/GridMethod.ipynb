{
 "cells": [
  {
   "cell_type": "code",
   "execution_count": 94,
   "metadata": {},
   "outputs": [
    {
     "name": "stdout",
     "output_type": "stream",
     "text": [
      "std::vector<Eigen::Vector3d> with 10575 elements.\n",
      "Use numpy.asarray() to access data.\n"
     ]
    },
    {
     "name": "stderr",
     "output_type": "stream",
     "text": [
      "WARNING: atoms 587 is completely inside atom 585\n"
     ]
    },
    {
     "ename": "SystemExit",
     "evalue": "",
     "output_type": "error",
     "traceback": [
      "An exception has occurred, use %tb to see the full traceback.\n",
      "\u001b[0;31mSystemExit\u001b[0m\n"
     ]
    },
    {
     "name": "stderr",
     "output_type": "stream",
     "text": [
      "/home/shawn/miniconda3/lib/python3.8/site-packages/IPython/core/interactiveshell.py:3452: UserWarning: To exit: use 'exit', 'quit', or Ctrl-D.\n",
      "  warn(\"To exit: use 'exit', 'quit', or Ctrl-D.\", stacklevel=1)\n"
     ]
    }
   ],
   "source": [
    "import numpy as np\n",
    "import sys\n",
    "import open3d as o3d\n",
    "import pandas as pd\n",
    "from scipy.spatial import Delaunay\n",
    "from scipy.spatial.distance import cdist\n",
    "\n",
    "from Bio.PDB.PDBParser import PDBParser\n",
    "from Bio.PDB.ResidueDepth import get_surface\n",
    "\n",
    "def GridInPocket(AtomCoord, Surface):\n",
    "    \n",
    "    # 1.inital grid points\n",
    "    X = np.arange(-15, 15, 1.375)\n",
    "    Y = np.arange(-6, 6, 1.375)\n",
    "    Z = np.arange(0, 12, 1.375)\n",
    "    xx,yy,zz = np.meshgrid(X, Y, Z)\n",
    "    grid_coord = np.hstack((xx.reshape(-1,1),yy.reshape(-1,1),zz.reshape(-1,1)))\n",
    "\n",
    "    # 2. protruding grid points\n",
    "    box = Delaunay(AtomCoord)\n",
    "    InGroove = box.find_simplex(grid_coord)>=0\n",
    "\n",
    "    # 3. crash grid points\n",
    "    NoCrash = cdist(grid_coord, AtomCoord).min(axis=1) > 1.375\n",
    "    \n",
    "    return grid_coord[InGroove * NoCrash]\n",
    "\n",
    "def ShowAtomCloud(DATFile, PDBfile):\n",
    "    \n",
    "    DAT = pd.read_csv(DATFile)\n",
    "    Coord = DAT[['X', 'Y', 'Z']].values\n",
    "\n",
    "    parser = PDBParser(PERMISSIVE=1)\n",
    "    Struct = parser.get_structure(\"struct\", PDBfile)[0]\n",
    "    Surface = get_surface(Struct, MSMS=\"/home/shawn/local/msms_i86_64Linux2_2.6.1/msms.x86_64Linux2.2.6.1\")\n",
    "\n",
    "    P1 = o3d.geometry.PointCloud()\n",
    "    P2 = o3d.geometry.PointCloud()\n",
    "    P3 = o3d.geometry.PointCloud()\n",
    "    \n",
    "    P1.points = o3d.utility.Vector3dVector(Coord)\n",
    "    P2.points = o3d.utility.Vector3dVector(GridInPocket(Coord, Surface))\n",
    "    P3.points = o3d.utility.Vector3dVector(Surface)\n",
    "    # P1.colors = o3d.utility.Vector3dVector(color1)\n",
    "    # P2.colors = o3d.utility.Vector3dVector(color2)\n",
    "\n",
    "    P3.estimate_normals(search_param=o3d.geometry.KDTreeSearchParamHybrid(radius=2, max_nn=10))\n",
    "    print(P3.normals)\n",
    "    sys.exit()\n",
    "    # radii = [1, 2, 4]\n",
    "    # rec_mesh = o3d.geometry.TriangleMesh.create_from_point_cloud_ball_pivoting(P3, o3d.utility.DoubleVector(radii))\n",
    "    alpha = 1.375\n",
    "    rec_mesh = o3d.geometry.TriangleMesh.create_from_point_cloud_alpha_shape(P3, alpha)\n",
    "\n",
    "    # rec_mesh, densities = o3d.geometry.TriangleMesh.create_from_point_cloud_poisson(P3, depth=9)\n",
    "\n",
    "    o3d.visualization.draw_geometries([P3, rec_mesh],point_show_normal=True)\n",
    "\n",
    "    P1.paint_uniform_color([1, 0, 0])\n",
    "    P2.paint_uniform_color([0, 1, 0])\n",
    "    # P3.paint_uniform_color([0, 0, 1])\n",
    "    # o3d.visualization.draw_geometries([P1, P2])\n",
    "\n",
    "    return\n",
    "\n",
    "ShowAtomCloud(\"../crystal/A_mean/DAT/A01_01.csv\", \"../crystal/A_mean/pdb/A01_01.pdb\")"
   ]
  },
  {
   "cell_type": "code",
   "execution_count": 89,
   "metadata": {},
   "outputs": [],
   "source": [
    "msmsout = \"A01_01.vert\"\n",
    "\n",
    "with open(msmsout) as fp:\n",
    "    vertex_list = []\n",
    "    norm_list = []\n",
    "    for l in fp:\n",
    "        sl = l.split()\n",
    "        if len(sl) != 9:\n",
    "            # skip header\n",
    "            continue\n",
    "        vl = [float(x) for x in sl[0:3]]\n",
    "        nl = [float(x) for x in sl[3:6]]\n",
    "        vertex_list.append(vl)\n",
    "        norm_list.append(nl)\n",
    "\n",
    "vertex_list = np.array(vertex_list)\n",
    "norm_list = np.array(norm_list)"
   ]
  },
  {
   "cell_type": "code",
   "execution_count": 96,
   "metadata": {},
   "outputs": [],
   "source": [
    "P1 = o3d.geometry.PointCloud()\n",
    "P1.points = o3d.utility.Vector3dVector(vertex_list)\n",
    "P1.normals = o3d.utility.Vector3dVector(norm_list)\n",
    "o3d.visualization.draw_geometries([P1],point_show_normal=True)"
   ]
  },
  {
   "cell_type": "code",
   "execution_count": 42,
   "metadata": {},
   "outputs": [
    {
     "data": {
      "text/plain": [
       "array([ True, False, False])"
      ]
     },
     "execution_count": 42,
     "metadata": {},
     "output_type": "execute_result"
    }
   ],
   "source": [
    "A = np.array([[1,1,1],[2,2,2],[3,3,3]])\n",
    "B = np.array([True,False,False])\n",
    "C = np.array([True,True,False])\n",
    "B*C"
   ]
  }
 ],
 "metadata": {
  "interpreter": {
   "hash": "03bd0a3aa2fb457f4f9a4412ea0ce5f7edcd0e4858d63c9aa500d46f06c075ad"
  },
  "kernelspec": {
   "display_name": "Python 3.8.12 64-bit ('base': conda)",
   "language": "python",
   "name": "python3"
  },
  "language_info": {
   "codemirror_mode": {
    "name": "ipython",
    "version": 3
   },
   "file_extension": ".py",
   "mimetype": "text/x-python",
   "name": "python",
   "nbconvert_exporter": "python",
   "pygments_lexer": "ipython3",
   "version": "3.8.12"
  },
  "orig_nbformat": 4
 },
 "nbformat": 4,
 "nbformat_minor": 2
}
