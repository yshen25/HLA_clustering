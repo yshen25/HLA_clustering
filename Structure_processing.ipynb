{
 "cells": [
  {
   "cell_type": "markdown",
   "metadata": {},
   "source": [
    "# Structure processing\n",
    "## Trim, Align, and Coarse Graining\n",
    "Author: Yue Shen\\\n",
    "Created: July 2022"
   ]
  },
  {
   "cell_type": "code",
   "execution_count": 2,
   "metadata": {},
   "outputs": [],
   "source": [
    "from src.PointCloud import PointCloudCG, PDBtoPointCloud, assign_weight, PDB_to_csv, PDB_align"
   ]
  },
  {
   "cell_type": "code",
   "execution_count": null,
   "metadata": {},
   "outputs": [],
   "source": []
  }
 ],
 "metadata": {
  "kernelspec": {
   "display_name": "Python 3.8.12 ('base')",
   "language": "python",
   "name": "python3"
  },
  "language_info": {
   "codemirror_mode": {
    "name": "ipython",
    "version": 3
   },
   "file_extension": ".py",
   "mimetype": "text/x-python",
   "name": "python",
   "nbconvert_exporter": "python",
   "pygments_lexer": "ipython3",
   "version": "3.8.12"
  },
  "orig_nbformat": 4,
  "vscode": {
   "interpreter": {
    "hash": "03bd0a3aa2fb457f4f9a4412ea0ce5f7edcd0e4858d63c9aa500d46f06c075ad"
   }
  }
 },
 "nbformat": 4,
 "nbformat_minor": 2
}
