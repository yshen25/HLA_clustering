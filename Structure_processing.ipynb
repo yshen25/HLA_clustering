{
 "cells": [
  {
   "cell_type": "markdown",
   "metadata": {},
   "source": [
    "# Structure processing\n",
    "## Trim, Align, and Coarse Graining\n",
    "Author: Yue Shen\\\n",
    "Created: July 2022"
   ]
  },
  {
   "cell_type": "code",
   "execution_count": 1,
   "metadata": {},
   "outputs": [],
   "source": [
    "from src.PointCloud import PointCloudCG, PDBtoPointCloud, assign_weight, PDB_to_csv, PDB_align\n",
    "\n",
    "weight_dict = {\"A\":{63:9.9,67:7.6,116:5.8,9:5.4,97:4.7,152:4.6,167:3.8,156:3.7,74:3.6,70:3.2,\n",
    "80:3.0,171:2.9,45:2.8,77:2.7,76:2.4,114:2.3,99:2.1,95:1.5,158:1.4,24:1.2,7:1.0}}"
   ]
  },
  {
   "cell_type": "code",
   "execution_count": null,
   "metadata": {},
   "outputs": [],
   "source": [
    "PDBtoPointCloud(\"HLA1_models/PDB\", \"HLA1_models/ALIGN/\", \"HLA1_models/DAT/\", CGDir = \"HLA1_models/CG_DAT/\")"
   ]
  },
  {
   "cell_type": "code",
   "execution_count": null,
   "metadata": {},
   "outputs": [],
   "source": [
    "re_weight = assign_weight()\n",
    "# re_weight.by_resi_number(weight_dict)\n",
    "\n",
    "# re_weight.weight\n",
    "# for CGDAT_file in glob.glob(\"/Users/ys0/workbench/HLA_clustering/HLA1_models/Rosetta/CG_DAT/*.csv\"):\n",
    "\n",
    "#     re_weight.read_CG_DAT(CGDAT_file)\n",
    "#     re_weight.update_weight()\n",
    "#     re_weight.save_CG_DAT()"
   ]
  }
 ],
 "metadata": {
  "kernelspec": {
   "display_name": "Python 3.8.13 ('py38')",
   "language": "python",
   "name": "python3"
  },
  "language_info": {
   "codemirror_mode": {
    "name": "ipython",
    "version": 3
   },
   "file_extension": ".py",
   "mimetype": "text/x-python",
   "name": "python",
   "nbconvert_exporter": "python",
   "pygments_lexer": "ipython3",
   "version": "3.8.13"
  },
  "orig_nbformat": 4,
  "vscode": {
   "interpreter": {
    "hash": "ab2f5bd6f2e5c747d994d6cc011ae3211b56e19b44e4812a8470034e064986f7"
   }
  }
 },
 "nbformat": 4,
 "nbformat_minor": 2
}
