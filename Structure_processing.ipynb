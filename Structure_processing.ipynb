{
 "cells": [
  {
   "cell_type": "markdown",
   "metadata": {},
   "source": [
    "# Structure processing\n",
    "### convert pdb files into atom clouds and/or coarse grained residue clouds\n",
    "Author: Yue Shen\\\n",
    "Created: July 2022"
   ]
  },
  {
   "cell_type": "code",
   "execution_count": 2,
   "metadata": {},
   "outputs": [],
   "source": [
    "from src.PointCloud import PDBtoPointCloud, reweight_by_dict"
   ]
  },
  {
   "cell_type": "markdown",
   "metadata": {},
   "source": [
    "## 1. Trim, align, convert, and coarse graining"
   ]
  },
  {
   "cell_type": "code",
   "execution_count": 4,
   "metadata": {},
   "outputs": [],
   "source": [
    "raw_pdb_dir = \"HLA1_models/PDB\" # directory containing pdb files for processing\n",
    "trim_dir = \"HLA1_models/TRIM\" # directory that holds trimmed pdb files. trimming is according to the template pdb\n",
    "align_dir = \"HLA1_models/ALIGN\" # directory that holds aligned pdb files. aligning is according to the template pdb\n",
    "pointcloud_dir = \"HLA1_models/DAT\" # directory that holds atom cloud csv files\n",
    "cg_dir = \"HLA1_models/CG_DAT\" # directory that holds coarse grained point cloud csv files\n",
    "\n",
    "template_pdb = \"tools/1i4f_Crown.pdb\" # template pdb for trimming and aligning\n",
    "\n",
    "PDBtoPointCloud(InputDir=raw_pdb_dir, TrimDir=trim_dir, AlignDir=align_dir, PCDir=pointcloud_dir, CGDir=cg_dir, RefPDB=template_pdb, SSAlign=True)"
   ]
  },
  {
   "cell_type": "markdown",
   "metadata": {},
   "source": [
    "## 2. Change residue weight"
   ]
  },
  {
   "cell_type": "code",
   "execution_count": 5,
   "metadata": {},
   "outputs": [],
   "source": [
    "weight_dict = {\"A\":{63:9.9,67:7.6,116:5.8,9:5.4,97:4.7,152:4.6,167:3.8,156:3.7,74:3.6,70:3.2,\n",
    "80:3.0,171:2.9,45:2.8,77:2.7,76:2.4,114:2.3,99:2.1,95:1.5,158:1.4,24:1.2,7:1.0}}\n",
    "\n",
    "reweight_by_dict(cg_dir, weight_dict)"
   ]
  }
 ],
 "metadata": {
  "kernelspec": {
   "display_name": "Python 3.8.12 ('base')",
   "language": "python",
   "name": "python3"
  },
  "language_info": {
   "codemirror_mode": {
    "name": "ipython",
    "version": 3
   },
   "file_extension": ".py",
   "mimetype": "text/x-python",
   "name": "python",
   "nbconvert_exporter": "python",
   "pygments_lexer": "ipython3",
   "version": "3.8.12"
  },
  "orig_nbformat": 4,
  "vscode": {
   "interpreter": {
    "hash": "03bd0a3aa2fb457f4f9a4412ea0ce5f7edcd0e4858d63c9aa500d46f06c075ad"
   }
  }
 },
 "nbformat": 4,
 "nbformat_minor": 2
}
